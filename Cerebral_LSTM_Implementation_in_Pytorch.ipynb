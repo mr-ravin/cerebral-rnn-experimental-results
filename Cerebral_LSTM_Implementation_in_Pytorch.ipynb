{
 "cells": [
  {
   "cell_type": "markdown",
   "metadata": {},
   "source": [
    "## Implementation of Cerebral LSTM in Pytorch"
   ]
  },
  {
   "cell_type": "markdown",
   "metadata": {},
   "source": [
    "#### Research Paper Title: Cerebral LSTM: A Better Alternative for Single-and Multi-Stacked LSTM Cell-Based RNNs\n",
    "\n",
    "##### Author: [Ravin Kumar](https://mr-ravin.github.io)\n",
    "##### Published Research: [https://doi.org/10.1007/s42979-020-0101-1](https://doi.org/10.1007/s42979-020-0101-1)\n",
    "##### PDF available on Research Gate: [Click here to Visit](https://www.researchgate.net/publication/340013877_Cerebral_LSTM_A_Better_Alternative_for_Single-_and_Multi-Stacked_LSTM_Cell-Based_RNNs)\n",
    "\n",
    "##### Cite Paper as: \n",
    "```Kumar, R. Cerebral LSTM: A Better Alternative for Single- and Multi-Stacked LSTM Cell-Based RNNs. SN COMPUT. SCI. 1, 85 (2020). https://doi.org/10.1007/s42979-020-0101-1```\n",
    "\n",
    "##### Git Repo: [https://github.com/mr-ravin/cerebral-rnn-experimental-results](https://github.com/mr-ravin/cerebral-rnn-experimental-results)"
   ]
  },
  {
   "cell_type": "code",
   "execution_count": 387,
   "metadata": {
    "executionInfo": {
     "elapsed": 781,
     "status": "ok",
     "timestamp": 1696136564029,
     "user": {
      "displayName": "Ravin Kumar",
      "userId": "09011051242953458989"
     },
     "user_tz": -330
    },
    "id": "eJsRkj-H5IKc"
   },
   "outputs": [
    {
     "name": "stderr",
     "output_type": "stream",
     "text": [
      "[nltk_data] Downloading package stopwords to\n",
      "[nltk_data]     /Users/sparrow/nltk_data...\n",
      "[nltk_data]   Package stopwords is already up-to-date!\n"
     ]
    },
    {
     "data": {
      "text/plain": [
       "True"
      ]
     },
     "execution_count": 387,
     "metadata": {},
     "output_type": "execute_result"
    }
   ],
   "source": [
    "import numpy as np # linear algebra\n",
    "import pandas as pd # data processing, CSV file I/O (e.g. pd.read_csv)\n",
    "import torch\n",
    "import torch.nn as nn\n",
    "import torch.nn.functional as F\n",
    "from torch.nn.parameter import Parameter as Parameter\n",
    "from torch.optim.lr_scheduler import StepLR\n",
    "from nltk.corpus import stopwords\n",
    "from collections import Counter\n",
    "import re\n",
    "import seaborn as sns\n",
    "from tqdm import tqdm\n",
    "import matplotlib.pyplot as plt\n",
    "from torch.utils.data import TensorDataset, DataLoader\n",
    "from sklearn.model_selection import train_test_split\n",
    "import nltk\n",
    "nltk.download('stopwords')"
   ]
  },
  {
   "cell_type": "markdown",
   "metadata": {},
   "source": [
    "### Important: \n",
    "Cerebral LSTM contains larger number of trainable parameters when compared to a Simple LSTM. So, if one wants to train Cerebral LSTM on smaller dataset, it will overfit. To avoid overfitting on smaller dataset, one can use lower values of hidden dimension."
   ]
  },
  {
   "cell_type": "code",
   "execution_count": 411,
   "metadata": {},
   "outputs": [],
   "source": [
    "Select_Model = \"ALL\" # Cerebral_LSTM, LSTM, BOTH, ALL"
   ]
  },
  {
   "cell_type": "code",
   "execution_count": 412,
   "metadata": {
    "colab": {
     "base_uri": "https://localhost:8080/"
    },
    "executionInfo": {
     "elapsed": 755,
     "status": "ok",
     "timestamp": 1696136564773,
     "user": {
      "displayName": "Ravin Kumar",
      "userId": "09011051242953458989"
     },
     "user_tz": -330
    },
    "id": "w0WQ0zI858tH",
    "outputId": "673a1ca3-c3d2-4657-af92-eb2146f2da12"
   },
   "outputs": [
    {
     "name": "stdout",
     "output_type": "stream",
     "text": [
      "GPU not available, CPU used\n"
     ]
    }
   ],
   "source": [
    "is_cuda = torch.cuda.is_available()\n",
    "\n",
    "# If we have a GPU available, we'll set our device to GPU. We'll use this device variable later in our code.\n",
    "if is_cuda:\n",
    "    device = torch.device(\"cuda\")\n",
    "    print(\"GPU is available\")\n",
    "else:\n",
    "    device = torch.device(\"cpu\")\n",
    "    print(\"GPU not available, CPU used\")"
   ]
  },
  {
   "cell_type": "code",
   "execution_count": 390,
   "metadata": {
    "colab": {
     "base_uri": "https://localhost:8080/"
    },
    "executionInfo": {
     "elapsed": 4638,
     "status": "ok",
     "timestamp": 1696136569404,
     "user": {
      "displayName": "Ravin Kumar",
      "userId": "09011051242953458989"
     },
     "user_tz": -330
    },
    "id": "Tp5fqDMG6CKl",
    "outputId": "c77b56e6-85d8-4aa4-be59-8475c39915a0"
   },
   "outputs": [],
   "source": [
    "# from google.colab import drive\n",
    "# drive.mount('/content/drive', force_remount=True)"
   ]
  },
  {
   "cell_type": "code",
   "execution_count": 439,
   "metadata": {
    "colab": {
     "base_uri": "https://localhost:8080/",
     "height": 204
    },
    "executionInfo": {
     "elapsed": 1096,
     "status": "ok",
     "timestamp": 1696136570490,
     "user": {
      "displayName": "Ravin Kumar",
      "userId": "09011051242953458989"
     },
     "user_tz": -330
    },
    "id": "_u7dfak46jhx",
    "outputId": "15cde01f-4fe5-45f1-9faa-dcce59935e9a"
   },
   "outputs": [],
   "source": [
    "root_path = \"/Users/sparrow/Desktop/\" #'/content/drive/MyDrive/'\n",
    "base_csv = root_path+'Cerebral_LSTM/IMDB Dataset.csv'\n",
    "df = pd.read_csv(base_csv)\n",
    "df.head()\n",
    "df = df [:5000] # For demo purpose, only using 1K sample, comment this line to use complete dataset."
   ]
  },
  {
   "cell_type": "markdown",
   "metadata": {
    "id": "rLdjYCJj6_CP"
   },
   "source": [
    "### Splitting to train and test data"
   ]
  },
  {
   "cell_type": "code",
   "execution_count": 392,
   "metadata": {
    "colab": {
     "base_uri": "https://localhost:8080/"
    },
    "executionInfo": {
     "elapsed": 19,
     "status": "ok",
     "timestamp": 1696136570490,
     "user": {
      "displayName": "Ravin Kumar",
      "userId": "09011051242953458989"
     },
     "user_tz": -330
    },
    "id": "c8941BgY6xUt",
    "outputId": "b92c324d-2e87-4789-d1c6-58def23e85ad"
   },
   "outputs": [
    {
     "name": "stdout",
     "output_type": "stream",
     "text": [
      "shape of train data is (3750,)\n",
      "shape of test data is (1250,)\n"
     ]
    }
   ],
   "source": [
    "X,y = df['review'].values,df['sentiment'].values\n",
    "x_train,x_test,y_train,y_test = train_test_split(X,y,stratify=y)\n",
    "print(f'shape of train data is {x_train.shape}')\n",
    "print(f'shape of test data is {x_test.shape}')"
   ]
  },
  {
   "cell_type": "markdown",
   "metadata": {
    "id": "Wv-Mc69c7Gj0"
   },
   "source": [
    "### Analysing sentiment"
   ]
  },
  {
   "cell_type": "code",
   "execution_count": 393,
   "metadata": {
    "colab": {
     "base_uri": "https://localhost:8080/",
     "height": 430
    },
    "executionInfo": {
     "elapsed": 14,
     "status": "ok",
     "timestamp": 1696136570491,
     "user": {
      "displayName": "Ravin Kumar",
      "userId": "09011051242953458989"
     },
     "user_tz": -330
    },
    "id": "1tEqeakr6wpn",
    "outputId": "ad2da940-2759-4e2e-a240-311c576f6451"
   },
   "outputs": [
    {
     "data": {
      "image/png": "[encoded data removed]",
      "text/plain": [
       "<Figure size 640x480 with 1 Axes>"
      ]
     },
     "metadata": {},
     "output_type": "display_data"
    }
   ],
   "source": [
    "dd = pd.Series(y_train).value_counts()\n",
    "sns.barplot(x=np.array(['negative','positive']),y=dd.values)\n",
    "plt.show()"
   ]
  },
  {
   "cell_type": "markdown",
   "metadata": {
    "id": "ZvOkVOJf7QHT"
   },
   "source": [
    "### Tockenization"
   ]
  },
  {
   "cell_type": "code",
   "execution_count": 394,
   "metadata": {
    "executionInfo": {
     "elapsed": 7,
     "status": "ok",
     "timestamp": 1696136570491,
     "user": {
      "displayName": "Ravin Kumar",
      "userId": "09011051242953458989"
     },
     "user_tz": -330
    },
    "id": "0ScQB8826viu"
   },
   "outputs": [],
   "source": [
    "def preprocess_string(s):\n",
    "    # Remove all non-word characters (everything except numbers and letters)\n",
    "    s = re.sub(r\"[^\\w\\s]\", '', s)\n",
    "    # Replace all runs of whitespaces with no space\n",
    "    s = re.sub(r\"\\s+\", '', s)\n",
    "    # replace digits with no space\n",
    "    s = re.sub(r\"\\d\", '', s)\n",
    "\n",
    "    return s\n",
    "\n",
    "def tockenize(x_train,y_train,x_val,y_val):\n",
    "    word_list = []\n",
    "\n",
    "    stop_words = set(stopwords.words('english'))\n",
    "    for sent in x_train:\n",
    "        for word in sent.lower().split():\n",
    "            word = preprocess_string(word)\n",
    "            if word not in stop_words and word != '':\n",
    "                word_list.append(word)\n",
    "\n",
    "    corpus = Counter(word_list)\n",
    "    # sorting on the basis of most common words\n",
    "    corpus_ = sorted(corpus,key=corpus.get,reverse=True)[:1000]\n",
    "    # creating a dict\n",
    "    onehot_dict = {w:i+1 for i,w in enumerate(corpus_)}\n",
    "\n",
    "    # tockenize\n",
    "    final_list_train,final_list_test = [],[]\n",
    "    for sent in x_train:\n",
    "            final_list_train.append([onehot_dict[preprocess_string(word)] for word in sent.lower().split()\n",
    "                                     if preprocess_string(word) in onehot_dict.keys()])\n",
    "    for sent in x_val:\n",
    "            final_list_test.append([onehot_dict[preprocess_string(word)] for word in sent.lower().split()\n",
    "                                    if preprocess_string(word) in onehot_dict.keys()])\n",
    "\n",
    "    encoded_train = [1 if label =='positive' else 0 for label in y_train]\n",
    "    encoded_test = [1 if label =='positive' else 0 for label in y_val]\n",
    "    return np.array(final_list_train), np.array(encoded_train),np.array(final_list_test), np.array(encoded_test),onehot_dict\n"
   ]
  },
  {
   "cell_type": "code",
   "execution_count": 395,
   "metadata": {
    "colab": {
     "base_uri": "https://localhost:8080/"
    },
    "executionInfo": {
     "elapsed": 98785,
     "status": "ok",
     "timestamp": 1696136669268,
     "user": {
      "displayName": "Ravin Kumar",
      "userId": "09011051242953458989"
     },
     "user_tz": -330
    },
    "id": "jmzQI04G7Y7E",
    "outputId": "135710db-18e5-4866-bc0e-44c751cd52dc"
   },
   "outputs": [
    {
     "name": "stderr",
     "output_type": "stream",
     "text": [
      "/var/folders/55/8qk_hsb17hb0d7ddn1hn87k40000gn/T/ipykernel_59855/2555102333.py:38: VisibleDeprecationWarning: Creating an ndarray from ragged nested sequences (which is a list-or-tuple of lists-or-tuples-or ndarrays with different lengths or shapes) is deprecated. If you meant to do this, you must specify 'dtype=object' when creating the ndarray.\n",
      "  return np.array(final_list_train), np.array(encoded_train),np.array(final_list_test), np.array(encoded_test),onehot_dict\n"
     ]
    }
   ],
   "source": [
    "x_train,y_train,x_test,y_test,vocab = tockenize(x_train,y_train,x_test,y_test)"
   ]
  },
  {
   "cell_type": "code",
   "execution_count": 396,
   "metadata": {
    "colab": {
     "base_uri": "https://localhost:8080/"
    },
    "executionInfo": {
     "elapsed": 32,
     "status": "ok",
     "timestamp": 1696136669269,
     "user": {
      "displayName": "Ravin Kumar",
      "userId": "09011051242953458989"
     },
     "user_tz": -330
    },
    "id": "aQ_p35PJ7kx3",
    "outputId": "942c7b72-2cfa-4768-a78a-b30dfc6b67a9"
   },
   "outputs": [
    {
     "name": "stdout",
     "output_type": "stream",
     "text": [
      "Length of vocabulary is 1000\n"
     ]
    }
   ],
   "source": [
    "print(f'Length of vocabulary is {len(vocab)}')"
   ]
  },
  {
   "cell_type": "markdown",
   "metadata": {
    "id": "DVjGUUEc8Ifw"
   },
   "source": [
    "### Analysing review length"
   ]
  },
  {
   "cell_type": "code",
   "execution_count": 397,
   "metadata": {
    "colab": {
     "base_uri": "https://localhost:8080/",
     "height": 583
    },
    "executionInfo": {
     "elapsed": 21,
     "status": "ok",
     "timestamp": 1696136669270,
     "user": {
      "displayName": "Ravin Kumar",
      "userId": "09011051242953458989"
     },
     "user_tz": -330
    },
    "id": "WECJeFAp8NU5",
    "outputId": "4707518b-3ba5-4c9b-8a33-0885b7fc8200"
   },
   "outputs": [
    {
     "data": {
      "image/png": "[encoded data removed]",
      "text/plain": [
       "<Figure size 640x480 with 1 Axes>"
      ]
     },
     "metadata": {},
     "output_type": "display_data"
    },
    {
     "data": {
      "text/plain": [
       "count    3750.000000\n",
       "mean       68.969600\n",
       "std        48.098582\n",
       "min         4.000000\n",
       "25%        39.000000\n",
       "50%        54.000000\n",
       "75%        84.000000\n",
       "max       466.000000\n",
       "dtype: float64"
      ]
     },
     "execution_count": 397,
     "metadata": {},
     "output_type": "execute_result"
    }
   ],
   "source": [
    "rev_len = [len(i) for i in x_train]\n",
    "pd.Series(rev_len).hist()\n",
    "plt.show()\n",
    "pd.Series(rev_len).describe()"
   ]
  },
  {
   "cell_type": "markdown",
   "metadata": {
    "id": "KT_3uk3N8TaN"
   },
   "source": [
    "Observations : <br>a) Mean review length = around 69.<br> b) minimum length of reviews is 2.<br>c)There are quite a few reviews that are extremely long, we can manually investigate them to check whether we need to include or exclude them from our analysis."
   ]
  },
  {
   "cell_type": "markdown",
   "metadata": {
    "id": "9oSV4jd88WnY"
   },
   "source": [
    "### Padding"
   ]
  },
  {
   "cell_type": "markdown",
   "metadata": {
    "id": "nLdZd0f78Zdi"
   },
   "source": [
    "Now we will pad each of the sequence to max length"
   ]
  },
  {
   "cell_type": "code",
   "execution_count": 398,
   "metadata": {
    "executionInfo": {
     "elapsed": 13,
     "status": "ok",
     "timestamp": 1696136669270,
     "user": {
      "displayName": "Ravin Kumar",
      "userId": "09011051242953458989"
     },
     "user_tz": -330
    },
    "id": "kBSltJuj8VEp"
   },
   "outputs": [],
   "source": [
    "def padding_(sentences, seq_len):\n",
    "    features = np.zeros((len(sentences), seq_len),dtype=int)\n",
    "    for ii, review in enumerate(sentences):\n",
    "        if len(review) != 0:\n",
    "            features[ii, -len(review):] = np.array(review)[:seq_len]\n",
    "    return features"
   ]
  },
  {
   "cell_type": "code",
   "execution_count": 399,
   "metadata": {
    "executionInfo": {
     "elapsed": 763,
     "status": "ok",
     "timestamp": 1696136670021,
     "user": {
      "displayName": "Ravin Kumar",
      "userId": "09011051242953458989"
     },
     "user_tz": -330
    },
    "id": "zm52y3fJ8gO_"
   },
   "outputs": [],
   "source": [
    "#we have very less number of reviews with length > 500.\n",
    "#So we will consideronly those below it.\n",
    "x_train_pad = padding_(x_train,69) #padding_(x_train,500)\n",
    "x_test_pad = padding_(x_test,69) #padding_(x_test,500)"
   ]
  },
  {
   "cell_type": "markdown",
   "metadata": {
    "id": "W-hmaOWj8qi7"
   },
   "source": [
    "### Batching and loading as tensor"
   ]
  },
  {
   "cell_type": "code",
   "execution_count": 400,
   "metadata": {
    "executionInfo": {
     "elapsed": 22,
     "status": "ok",
     "timestamp": 1696136670021,
     "user": {
      "displayName": "Ravin Kumar",
      "userId": "09011051242953458989"
     },
     "user_tz": -330
    },
    "id": "TM4G1mgP8sUz"
   },
   "outputs": [],
   "source": [
    "# create Tensor datasets\n",
    "train_data = TensorDataset(torch.from_numpy(x_train_pad), torch.from_numpy(y_train))\n",
    "valid_data = TensorDataset(torch.from_numpy(x_test_pad), torch.from_numpy(y_test))\n",
    "\n",
    "# dataloaders\n",
    "batch_size = 1\n",
    "\n",
    "# make sure to SHUFFLE your data\n",
    "train_loader = DataLoader(train_data, shuffle=True, batch_size=batch_size)\n",
    "valid_loader = DataLoader(valid_data, shuffle=True, batch_size=batch_size)"
   ]
  },
  {
   "cell_type": "code",
   "execution_count": 401,
   "metadata": {
    "colab": {
     "base_uri": "https://localhost:8080/"
    },
    "executionInfo": {
     "elapsed": 19,
     "status": "ok",
     "timestamp": 1696136670021,
     "user": {
      "displayName": "Ravin Kumar",
      "userId": "09011051242953458989"
     },
     "user_tz": -330
    },
    "id": "ka_Fd9v88wg9",
    "outputId": "fc426918-df5f-4eed-abd5-9135faeaf377"
   },
   "outputs": [
    {
     "name": "stdout",
     "output_type": "stream",
     "text": [
      "Sample input size:  torch.Size([1, 69])\n",
      "Sample input: \n",
      " tensor([[  2, 401,  48,  49,  57, 159,  14, 200,  54, 628, 162, 121, 261,  51,\n",
      "          12, 200, 583,  21,  30,  13,  31,  87,  70,  63, 305, 259, 295,  23,\n",
      "         675, 121, 395, 600, 343, 589,  47, 161,  72, 589, 395,  21, 237,  37,\n",
      "          35,  87, 126, 582, 794, 794, 103,  58,  15,   6, 738,   1,   1, 297,\n",
      "          35, 655, 235,   5, 702,  44, 991, 202,  30, 330, 863, 343, 305]])\n",
      "Sample input: \n",
      " tensor([0])\n"
     ]
    }
   ],
   "source": [
    "# obtain one batch of training data\n",
    "dataiter = iter(train_loader)\n",
    "sample_x, sample_y = next(dataiter)\n",
    "\n",
    "print('Sample input size: ', sample_x.size()) # batch_size, seq_length\n",
    "print('Sample input: \\n', sample_x)\n",
    "print('Sample input: \\n', sample_y)\n"
   ]
  },
  {
   "cell_type": "markdown",
   "metadata": {
    "id": "Wf2f_BFw8zTn"
   },
   "source": [
    "We need to add an embedding layer because there are less words in our vocabulary. It is massively inefficient to one-hot encode that many classes. So, instead of one-hot encoding, we can have an embedding layer and use that layer as a lookup table. You could train an embedding layer using Word2Vec, then load it here. But, it's fine to just make a new layer, using it for only dimensionality reduction, and let the network learn the weights."
   ]
  },
  {
   "cell_type": "markdown",
   "metadata": {
    "id": "EboL4sqc7O-e"
   },
   "source": [
    "### Models"
   ]
  },
  {
   "cell_type": "code",
   "execution_count": 414,
   "metadata": {
    "executionInfo": {
     "elapsed": 16,
     "status": "ok",
     "timestamp": 1696136670021,
     "user": {
      "displayName": "Ravin Kumar",
      "userId": "09011051242953458989"
     },
     "user_tz": -330
    },
    "id": "4ekT1wtYIvHj"
   },
   "outputs": [],
   "source": [
    "class Cerebral_LSTMCell(nn.Module):\n",
    "    def __init__(self,input_size,hidden_size,bias=True):\n",
    "        super(Cerebral_LSTMCell, self).__init__()\n",
    "        self.input_size = input_size\n",
    "        self.hidden_size = hidden_size\n",
    "        \n",
    "        self.weight_fx_u = nn.Linear(input_size, hidden_size, bias=bias)\n",
    "        self.weight_ix_u = nn.Linear(input_size, hidden_size, bias=bias)\n",
    "        self.weight_cx_u = nn.Linear(input_size, hidden_size, bias=bias)\n",
    "        self.weight_ox_u = nn.Linear(input_size, hidden_size, bias=bias)\n",
    "        \n",
    "        self.weight_fh_u = nn.Linear(hidden_size, hidden_size, bias=bias)\n",
    "        self.weight_ih_u = nn.Linear(hidden_size, hidden_size, bias=bias)\n",
    "        self.weight_ch_u = nn.Linear(hidden_size, hidden_size, bias=bias)\n",
    "        self.weight_oh_u = nn.Linear(hidden_size, hidden_size, bias=bias)\n",
    "    \n",
    "        self.weight_fx_l = nn.Linear(input_size, hidden_size, bias=bias)\n",
    "        self.weight_ix_l = nn.Linear(input_size, hidden_size, bias=bias)\n",
    "        self.weight_cx_l = nn.Linear(input_size, hidden_size, bias=bias)\n",
    "        self.weight_ox_l = nn.Linear(input_size, hidden_size, bias=bias)\n",
    "        \n",
    "        self.weight_fh_l = nn.Linear(hidden_size, hidden_size, bias=bias)\n",
    "        self.weight_ih_l = nn.Linear(hidden_size, hidden_size, bias=bias)\n",
    "        self.weight_ch_l = nn.Linear(hidden_size, hidden_size, bias=bias)\n",
    "        self.weight_oh_l = nn.Linear(hidden_size, hidden_size, bias=bias)\n",
    "        \n",
    "    def forward(self,inp, h,uc,lc):\n",
    "          u_f_g = torch.sigmoid(self.weight_fx_u(inp) + self.weight_fh_u(h))\n",
    "          u_i_g = torch.sigmoid(self.weight_ix_u(inp) + self.weight_ih_u(h))\n",
    "          u_o_g = torch.sigmoid(self.weight_ox_u(inp) + self.weight_oh_u(h))\n",
    "          u_c_tilda = torch.tanh(self.weight_cx_u(inp) + self.weight_ch_u(h))\n",
    "          u_c_t = u_f_g * uc + u_i_g * u_c_tilda\n",
    "    \n",
    "          l_f_g = torch.sigmoid(self.weight_fx_l(inp) + self.weight_fh_l(h))\n",
    "          l_i_g = torch.sigmoid(self.weight_ix_l(inp) + self.weight_ih_l(h))\n",
    "          l_o_g = torch.sigmoid(self.weight_ox_l(inp) + self.weight_oh_l(h))\n",
    "          l_c_tilda = torch.tanh(self.weight_cx_l(inp) + self.weight_ch_l(h))\n",
    "          l_c_t = l_f_g * lc + l_i_g * l_c_tilda\n",
    "          \n",
    "          h_t = (u_o_g * torch.tanh(u_c_t))+(l_o_g * torch.tanh(l_c_t))\n",
    "        \n",
    "          return h_t, u_c_t, l_c_t"
   ]
  },
  {
   "cell_type": "code",
   "execution_count": 416,
   "metadata": {
    "executionInfo": {
     "elapsed": 15,
     "status": "ok",
     "timestamp": 1696136670022,
     "user": {
      "displayName": "Ravin Kumar",
      "userId": "09011051242953458989"
     },
     "user_tz": -330
    },
    "id": "WD69RFeB9Otd"
   },
   "outputs": [],
   "source": [
    "class Cerebral_LSTM_RNN(nn.Module):\n",
    "    def __init__(self,vocab_size,hidden_dim,output_dim, embedding_dim,drop_prob):\n",
    "        super(Cerebral_LSTM_RNN,self).__init__()\n",
    "\n",
    "        self.output_dim = output_dim #hidden_dim\n",
    "        self.hidden_dim = hidden_dim\n",
    "        self.vocab_size = vocab_size\n",
    "\n",
    "        # embedding and LSTM layers\n",
    "        self.embedding = nn.Embedding(vocab_size, embedding_dim)\n",
    "\n",
    "        #Cerebral lstm\n",
    "        self.cerebral_lstm = Cerebral_LSTMCell(input_size=embedding_dim,hidden_size=self.hidden_dim)\n",
    "\n",
    "        # dropout layer\n",
    "        self.dropout = nn.Dropout(drop_prob)\n",
    "\n",
    "        # linear and sigmoid layer\n",
    "        self.fc = nn.Linear(self.hidden_dim, self.output_dim)\n",
    "        self.sig = nn.Sigmoid()\n",
    "\n",
    "    def forward(self,x,h,uc,cell_state_lower):\n",
    "        # embeddings and lstm_out\n",
    "        embeds = self.embedding(x)\n",
    "        hidden, cell_state_upper, cell_state_lower = self.cerebral_lstm(embeds, h, uc, cell_state_lower)\n",
    "        # dropout and fully connected layer\n",
    "        out = self.dropout(hidden)\n",
    "        out = self.fc(out)\n",
    "        # sigmoid function\n",
    "        sig_out = self.sig(out)\n",
    "        # return last sigmoid output and hidden state\n",
    "        return sig_out, hidden, cell_state_upper, cell_state_lower\n",
    "\n",
    "    def init_hidden(self, batch_size=1):\n",
    "        ''' Initializes hidden state '''\n",
    "        # Create two new tensors with sizes n_layers x batch_size x hidden_dim,\n",
    "        # initialized to zero, for hidden state and cell state of LSTM\n",
    "        hidden_state_0 = torch.zeros((batch_size,self.hidden_dim)).to(device)\n",
    "        cell_state_upper_0 = torch.zeros((batch_size, self.hidden_dim)).to(device)\n",
    "        cell_state_lower_0 = torch.zeros((batch_size,self.hidden_dim)).to(device)\n",
    "        return  (hidden_state_0, cell_state_upper_0, cell_state_lower_0)\n"
   ]
  },
  {
   "cell_type": "code",
   "execution_count": 417,
   "metadata": {},
   "outputs": [],
   "source": [
    "class LSTMCell(nn.Module):\n",
    "  def __init__(self,input_size,hidden_size,bias=True):\n",
    "    super(LSTMCell, self).__init__()\n",
    "    self.input_size = input_size\n",
    "    self.hidden_size = hidden_size\n",
    "    \n",
    "    self.weight_fx = nn.Linear(input_size, hidden_size, bias=bias)\n",
    "    self.weight_ix = nn.Linear(input_size, hidden_size, bias=bias)\n",
    "    self.weight_cx = nn.Linear(input_size, hidden_size, bias=bias)\n",
    "    self.weight_ox = nn.Linear(input_size, hidden_size, bias=bias)\n",
    "    \n",
    "    self.weight_fh = nn.Linear(hidden_size, hidden_size, bias=bias)\n",
    "    self.weight_ih = nn.Linear(hidden_size, hidden_size, bias=bias)\n",
    "    self.weight_ch = nn.Linear(hidden_size, hidden_size, bias=bias)\n",
    "    self.weight_oh = nn.Linear(hidden_size, hidden_size, bias=bias)\n",
    "    \n",
    "    \n",
    "  def forward(self,inp, h,c):\n",
    "      f_g = torch.sigmoid(self.weight_fx(inp) + self.weight_fh(h))\n",
    "      i_g = torch.sigmoid(self.weight_ix(inp) + self.weight_ih(h))\n",
    "      o_g = torch.sigmoid(self.weight_ox(inp) + self.weight_oh(h))\n",
    "      c_tilda = torch.tanh(self.weight_cx(inp) + self.weight_ch(h))\n",
    "      c_t = f_g * c + i_g * c_tilda\n",
    "      h_t = o_g * torch.tanh(c_t)\n",
    "    \n",
    "      return h_t, c_t"
   ]
  },
  {
   "cell_type": "code",
   "execution_count": 418,
   "metadata": {},
   "outputs": [],
   "source": [
    "class LSTM_RNN(nn.Module):\n",
    "    def __init__(self,vocab_size,hidden_dim,output_dim,embedding_dim,drop_prob):\n",
    "        super(LSTM_RNN,self).__init__()\n",
    "\n",
    "        self.output_dim = output_dim\n",
    "        self.hidden_dim = hidden_dim\n",
    "        self.vocab_size = vocab_size\n",
    "\n",
    "        # embedding and LSTM layers\n",
    "        self.embedding = nn.Embedding(vocab_size, embedding_dim)\n",
    "\n",
    "        #lstm\n",
    "        self.lstm = LSTMCell(input_size=embedding_dim,hidden_size=self.hidden_dim)\n",
    "\n",
    "        # dropout layer\n",
    "        self.dropout = nn.Dropout(drop_prob)\n",
    "\n",
    "        # linear and sigmoid layer\n",
    "        self.fc = nn.Linear(self.hidden_dim, self.output_dim)\n",
    "        self.sig = nn.Sigmoid()\n",
    "\n",
    "    def forward(self,x,h,uc):\n",
    "        # embeddings and lstm_out\n",
    "        embeds = self.embedding(x)\n",
    "        hidden, cell_state_upper = self.lstm(embeds, h, uc)\n",
    "        # dropout and fully connected layer\n",
    "        out = self.dropout(hidden)\n",
    "        out = self.fc(out)\n",
    "        # sigmoid function\n",
    "        sig_out = self.sig(out)\n",
    "        # return last sigmoid output and hidden state\n",
    "        return sig_out, hidden, cell_state_upper,\n",
    "\n",
    "\n",
    "\n",
    "    def init_hidden(self, batch_size=1):\n",
    "        ''' Initializes hidden state '''\n",
    "        # Create two new tensors with sizes n_layers x batch_size x hidden_dim,\n",
    "        # initialized to zero, for hidden state and cell state of LSTM\n",
    "        hidden_state_0 = torch.zeros((batch_size,self.hidden_dim)).to(device)\n",
    "        cell_state_0 = torch.zeros((batch_size, self.hidden_dim)).to(device)\n",
    "        return  (hidden_state_0, cell_state_0)"
   ]
  },
  {
   "cell_type": "markdown",
   "metadata": {},
   "source": [
    "### Parameters used for Cerebral LSTM"
   ]
  },
  {
   "cell_type": "code",
   "execution_count": 424,
   "metadata": {
    "colab": {
     "base_uri": "https://localhost:8080/"
    },
    "executionInfo": {
     "elapsed": 14,
     "status": "ok",
     "timestamp": 1696136670022,
     "user": {
      "displayName": "Ravin Kumar",
      "userId": "09011051242953458989"
     },
     "user_tz": -330
    },
    "id": "_TDdHLeM9XHN",
    "outputId": "6d033c63-c3b9-4bfd-8e30-ba6c780d9afc"
   },
   "outputs": [
    {
     "data": {
      "text/plain": [
       "Cerebral_LSTM_RNN(\n",
       "  (embedding): Embedding(1001, 10)\n",
       "  (cerebral_lstm): Cerebral_LSTMCell(\n",
       "    (weight_fx_u): Linear(in_features=10, out_features=16, bias=True)\n",
       "    (weight_ix_u): Linear(in_features=10, out_features=16, bias=True)\n",
       "    (weight_cx_u): Linear(in_features=10, out_features=16, bias=True)\n",
       "    (weight_ox_u): Linear(in_features=10, out_features=16, bias=True)\n",
       "    (weight_fh_u): Linear(in_features=16, out_features=16, bias=True)\n",
       "    (weight_ih_u): Linear(in_features=16, out_features=16, bias=True)\n",
       "    (weight_ch_u): Linear(in_features=16, out_features=16, bias=True)\n",
       "    (weight_oh_u): Linear(in_features=16, out_features=16, bias=True)\n",
       "    (weight_fx_l): Linear(in_features=10, out_features=16, bias=True)\n",
       "    (weight_ix_l): Linear(in_features=10, out_features=16, bias=True)\n",
       "    (weight_cx_l): Linear(in_features=10, out_features=16, bias=True)\n",
       "    (weight_ox_l): Linear(in_features=10, out_features=16, bias=True)\n",
       "    (weight_fh_l): Linear(in_features=16, out_features=16, bias=True)\n",
       "    (weight_ih_l): Linear(in_features=16, out_features=16, bias=True)\n",
       "    (weight_ch_l): Linear(in_features=16, out_features=16, bias=True)\n",
       "    (weight_oh_l): Linear(in_features=16, out_features=16, bias=True)\n",
       "  )\n",
       "  (dropout): Dropout(p=0.3, inplace=False)\n",
       "  (fc): Linear(in_features=16, out_features=1, bias=True)\n",
       "  (sig): Sigmoid()\n",
       ")"
      ]
     },
     "execution_count": 424,
     "metadata": {},
     "output_type": "execute_result"
    }
   ],
   "source": [
    "vocab_size = len(vocab) + 1 #extra 1 for padding\n",
    "embedding_dim = 10 # Try with other values of Embedding Size\n",
    "output_dim = 1\n",
    "hidden_dim = 16 # Try with other values of Hidden Dimension Size\n",
    "\n",
    "# \"CerabralLSTM\":\n",
    "Cerebral_LSTM_model = Cerebral_LSTM_RNN(vocab_size,hidden_dim,output_dim,embedding_dim,drop_prob=0.3)\n",
    "\n",
    "#moving to gpu\n",
    "Cerebral_LSTM_model.to(device)"
   ]
  },
  {
   "cell_type": "markdown",
   "metadata": {
    "id": "dj0AmO9u9ZTv"
   },
   "source": [
    "#### Loss function and optimizer for Cerebral LSTM"
   ]
  },
  {
   "cell_type": "code",
   "execution_count": 425,
   "metadata": {
    "executionInfo": {
     "elapsed": 6,
     "status": "ok",
     "timestamp": 1696136670022,
     "user": {
      "displayName": "Ravin Kumar",
      "userId": "09011051242953458989"
     },
     "user_tz": -330
    },
    "id": "twgjhPXK9cXO"
   },
   "outputs": [],
   "source": [
    "# loss and optimization functions\n",
    "lr=0.001\n",
    "\n",
    "criterion = nn.BCELoss()\n",
    "\n",
    "optimizer_Cerebral_LSTM = torch.optim.Adam(Cerebral_LSTM_model.parameters(), lr=lr)\n",
    "schedular_Cerebral_LSTM = StepLR(optimizer_Cerebral_LSTM, step_size=4, gamma=0.1)\n",
    "\n",
    "# function to predict accuracy\n",
    "def acc(pred,label):\n",
    "    pred = torch.round(pred.squeeze())\n",
    "    return torch.sum(pred == label.squeeze()).item()"
   ]
  },
  {
   "cell_type": "markdown",
   "metadata": {},
   "source": [
    "#### Training and Validation using Cerebral LSTM"
   ]
  },
  {
   "cell_type": "code",
   "execution_count": 426,
   "metadata": {
    "colab": {
     "base_uri": "https://localhost:8080/",
     "height": 385
    },
    "executionInfo": {
     "elapsed": 102009,
     "status": "error",
     "timestamp": 1696138335002,
     "user": {
      "displayName": "Ravin Kumar",
      "userId": "09011051242953458989"
     },
     "user_tz": -330
    },
    "id": "VNbbw-z39eOq",
    "outputId": "574dd68f-2671-4852-ac23-3acd321e0893"
   },
   "outputs": [
    {
     "name": "stderr",
     "output_type": "stream",
     "text": [
      "Epoch 1: 100%|████████████████████| 3750/3750 [02:20<00:00, 26.60 Train batch/s]\n",
      "Epoch 1: 100%|████████████████████| 1250/1250 [01:09<00:00, 18.08 Valid batch/s]\n"
     ]
    },
    {
     "name": "stdout",
     "output_type": "stream",
     "text": [
      "Epoch 1\n",
      "train_loss : 0.6751044564406077 val_loss : 0.6446076736569405\n",
      "train_accuracy : 56.82666666666667 val_accuracy : 61.919999999999995\n",
      "Validation loss decreased (inf --> 0.644608).  Saving model ...\n",
      "==================================================\n"
     ]
    },
    {
     "name": "stderr",
     "output_type": "stream",
     "text": [
      "Epoch 2: 100%|████████████████████| 3750/3750 [17:58<00:00,  3.48 Train batch/s]\n",
      "Epoch 2: 100%|████████████████████| 1250/1250 [00:13<00:00, 94.55 Valid batch/s]\n"
     ]
    },
    {
     "name": "stdout",
     "output_type": "stream",
     "text": [
      "Epoch 2\n",
      "train_loss : 0.5891946601534883 val_loss : 0.5945513446688652\n",
      "train_accuracy : 69.89333333333333 val_accuracy : 68.64\n",
      "Validation loss decreased (0.644608 --> 0.594551).  Saving model ...\n",
      "==================================================\n"
     ]
    },
    {
     "name": "stderr",
     "output_type": "stream",
     "text": [
      "Epoch 3: 100%|████████████████████| 3750/3750 [02:24<00:00, 25.95 Train batch/s]\n",
      "Epoch 3: 100%|████████████████████| 1250/1250 [00:13<00:00, 93.53 Valid batch/s]\n"
     ]
    },
    {
     "name": "stdout",
     "output_type": "stream",
     "text": [
      "Epoch 3\n",
      "train_loss : 0.5020565814778208 val_loss : 0.5190069159001112\n",
      "train_accuracy : 76.98666666666666 val_accuracy : 75.68\n",
      "Validation loss decreased (0.594551 --> 0.519007).  Saving model ...\n",
      "==================================================\n"
     ]
    },
    {
     "name": "stderr",
     "output_type": "stream",
     "text": [
      "Epoch 4: 100%|████████████████████| 3750/3750 [02:23<00:00, 26.10 Train batch/s]\n",
      "Epoch 4: 100%|████████████████████| 1250/1250 [00:13<00:00, 95.84 Valid batch/s]\n"
     ]
    },
    {
     "name": "stdout",
     "output_type": "stream",
     "text": [
      "Epoch 4\n",
      "train_loss : 0.4372967015707244 val_loss : 0.5340042226091027\n",
      "train_accuracy : 82.56 val_accuracy : 76.88000000000001\n",
      "==================================================\n"
     ]
    },
    {
     "name": "stderr",
     "output_type": "stream",
     "text": [
      "Epoch 5: 100%|████████████████████| 3750/3750 [02:21<00:00, 26.51 Train batch/s]\n",
      "Epoch 5: 100%|████████████████████| 1250/1250 [00:13<00:00, 96.14 Valid batch/s]\n"
     ]
    },
    {
     "name": "stdout",
     "output_type": "stream",
     "text": [
      "Epoch 5\n",
      "train_loss : 0.3608129015063246 val_loss : 0.5176792229250073\n",
      "train_accuracy : 86.16 val_accuracy : 77.68\n",
      "Validation loss decreased (0.519007 --> 0.517679).  Saving model ...\n",
      "==================================================\n"
     ]
    },
    {
     "name": "stderr",
     "output_type": "stream",
     "text": [
      "Epoch 6: 100%|████████████████████| 3750/3750 [02:27<00:00, 25.43 Train batch/s]\n",
      "Epoch 6: 100%|████████████████████| 1250/1250 [00:13<00:00, 94.54 Valid batch/s]\n"
     ]
    },
    {
     "name": "stdout",
     "output_type": "stream",
     "text": [
      "Epoch 6\n",
      "train_loss : 0.3530396976939092 val_loss : 0.5214862819626928\n",
      "train_accuracy : 86.56 val_accuracy : 78.4\n",
      "==================================================\n"
     ]
    },
    {
     "name": "stderr",
     "output_type": "stream",
     "text": [
      "Epoch 7: 100%|████████████████████| 3750/3750 [02:39<00:00, 23.58 Train batch/s]\n",
      "Epoch 7: 100%|████████████████████| 1250/1250 [00:13<00:00, 95.23 Valid batch/s]\n"
     ]
    },
    {
     "name": "stdout",
     "output_type": "stream",
     "text": [
      "Epoch 7\n",
      "train_loss : 0.34562263982060054 val_loss : 0.5363245229519904\n",
      "train_accuracy : 87.2 val_accuracy : 78.48\n",
      "==================================================\n"
     ]
    },
    {
     "name": "stderr",
     "output_type": "stream",
     "text": [
      "Epoch 8: 100%|████████████████████| 3750/3750 [02:24<00:00, 26.00 Train batch/s]\n",
      "Epoch 8: 100%|████████████████████| 1250/1250 [00:13<00:00, 95.79 Valid batch/s]\n"
     ]
    },
    {
     "name": "stdout",
     "output_type": "stream",
     "text": [
      "Epoch 8\n",
      "train_loss : 0.34423090760701647 val_loss : 0.5360688980206847\n",
      "train_accuracy : 87.17333333333333 val_accuracy : 78.48\n",
      "==================================================\n"
     ]
    },
    {
     "name": "stderr",
     "output_type": "stream",
     "text": [
      "Epoch 9: 100%|████████████████████| 3750/3750 [02:21<00:00, 26.52 Train batch/s]\n",
      "Epoch 9: 100%|████████████████████| 1250/1250 [00:13<00:00, 95.15 Valid batch/s]\n"
     ]
    },
    {
     "name": "stdout",
     "output_type": "stream",
     "text": [
      "Epoch 9\n",
      "train_loss : 0.32762143566502877 val_loss : 0.5404458789266646\n",
      "train_accuracy : 87.78666666666666 val_accuracy : 78.64\n",
      "==================================================\n"
     ]
    },
    {
     "name": "stderr",
     "output_type": "stream",
     "text": [
      "Epoch 10: 100%|███████████████████| 3750/3750 [02:21<00:00, 26.44 Train batch/s]\n",
      "Epoch 10: 100%|███████████████████| 1250/1250 [00:13<00:00, 96.12 Valid batch/s]"
     ]
    },
    {
     "name": "stdout",
     "output_type": "stream",
     "text": [
      "Epoch 10\n",
      "train_loss : 0.3264931403083727 val_loss : 0.5429904807753861\n",
      "train_accuracy : 87.76 val_accuracy : 78.4\n",
      "==================================================\n"
     ]
    },
    {
     "name": "stderr",
     "output_type": "stream",
     "text": [
      "\n"
     ]
    }
   ],
   "source": [
    "if Select_Model in [\"Cerebral_LSTM\", \"ALL\", \"BOTH\"]:\n",
    "  clip = 5\n",
    "  epochs = 10\n",
    "  valid_loss_min = np.Inf\n",
    "  # train for some number of epochs\n",
    "  epoch_tr_loss,epoch_vl_loss = [],[]\n",
    "  epoch_tr_acc,epoch_vl_acc = [],[]\n",
    "  # TRAIN AND VALIDATE Cerebral LSTM\n",
    "  for epoch in range(epochs):\n",
    "        \n",
    "        train_losses = []\n",
    "        train_acc = 0.0\n",
    "        Cerebral_LSTM_model.train()\n",
    "        # initialize hidden state\n",
    "        \n",
    "        with tqdm(train_loader, unit=\" Train batch\") as tepoch:\n",
    "          tepoch.set_description(f\"Epoch {epoch+1}\")\n",
    "          for inputs, labels in tepoch:\n",
    "            inputs, labels = inputs.to(device), labels.to(device)\n",
    "            output = None\n",
    "            for single_sentence in inputs:\n",
    "              Cerebral_LSTM_model.zero_grad()\n",
    "              h,uc,lc = Cerebral_LSTM_model.init_hidden(batch_size=1)\n",
    "              for each_elem in single_sentence:\n",
    "                word = each_elem.unsqueeze(dim=0)\n",
    "                output, h, uc, lc = Cerebral_LSTM_model(word,h,uc,lc)\n",
    "            loss = criterion(input=output.squeeze(dim=0), target=labels.float())\n",
    "            train_losses.append(loss.item())\n",
    "            loss.backward()\n",
    "            \n",
    "            # calculating accuracy\n",
    "            accuracy = acc(output,labels)\n",
    "            train_acc += accuracy\n",
    "            #`clip_grad_norm` helps prevent the exploding gradient problem in RNNs / LSTMs.\n",
    "            nn.utils.clip_grad_norm_(Cerebral_LSTM_model.parameters(), clip)\n",
    "            optimizer_Cerebral_LSTM.step()\n",
    "            \n",
    "\n",
    "        # validation code\n",
    "        val_losses = []\n",
    "        val_acc = 0.0\n",
    "        Cerebral_LSTM_model.eval()\n",
    "        with tqdm(valid_loader, unit=\" Valid batch\") as vepoch:\n",
    "          vepoch.set_description(f\"Epoch {epoch+1}\")\n",
    "          for inputs, labels in vepoch:\n",
    "            inputs, labels = inputs.to(device), labels.to(device)\n",
    "            output = None\n",
    "            for single_sentence in inputs:\n",
    "                val_h, val_uc, val_lc = Cerebral_LSTM_model.init_hidden(batch_size=1)\n",
    "                for each_elem in single_sentence:\n",
    "                  word = each_elem.unsqueeze(dim=0)\n",
    "                  with torch.no_grad():\n",
    "                    output, val_h, val_uc, val_lc = Cerebral_LSTM_model(word,val_h,val_uc,val_lc)\n",
    "            val_loss = criterion(output.squeeze(dim=0), labels.float())\n",
    "            val_losses.append(val_loss.item())\n",
    "            accuracy = acc(output.squeeze(dim=0),labels)\n",
    "            val_acc += accuracy\n",
    "\n",
    "        # matrices log\n",
    "        epoch_train_loss = np.mean(train_losses)\n",
    "        epoch_val_loss = np.mean(val_losses)\n",
    "        epoch_train_acc = train_acc/len(train_loader.dataset)\n",
    "        epoch_val_acc = val_acc/len(valid_loader.dataset)\n",
    "        epoch_tr_loss.append(epoch_train_loss)\n",
    "        epoch_vl_loss.append(epoch_val_loss)\n",
    "        epoch_tr_acc.append(epoch_train_acc)\n",
    "        epoch_vl_acc.append(epoch_val_acc)\n",
    "        print(f'Epoch {epoch+1}')\n",
    "        print(f'train_loss : {epoch_train_loss} val_loss : {epoch_val_loss}')\n",
    "        print(f'train_accuracy : {epoch_train_acc*100} val_accuracy : {epoch_val_acc*100}')\n",
    "        if epoch_val_loss <= valid_loss_min:\n",
    "            torch.save(Cerebral_LSTM_model.state_dict(), root_path+\"Cerebral_LSTM/cerebral_lstm_dict_\"+str(epoch+1)+\".pt\")\n",
    "            print('Validation loss decreased ({:.6f} --> {:.6f}).  Saving model ...'.format(valid_loss_min,epoch_val_loss))\n",
    "            valid_loss_min = epoch_val_loss\n",
    "        print(25*'==')\n",
    "        schedular_Cerebral_LSTM.step()"
   ]
  },
  {
   "cell_type": "markdown",
   "metadata": {},
   "source": [
    "#### Analysis of Training and Validation Loss and Accuracy for Cerebral LSTM"
   ]
  },
  {
   "cell_type": "code",
   "execution_count": 427,
   "metadata": {},
   "outputs": [
    {
     "data": {
      "image/png": "[encoded data removed]",
      "text/plain": [
       "<Figure size 2000x600 with 2 Axes>"
      ]
     },
     "metadata": {},
     "output_type": "display_data"
    },
    {
     "data": {
      "text/plain": [
       "<Figure size 640x480 with 0 Axes>"
      ]
     },
     "metadata": {},
     "output_type": "display_data"
    }
   ],
   "source": [
    "if Select_Model in [\"Cerebral_LSTM\", \"ALL\", \"BOTH\"]:\n",
    "    fig = plt.figure(figsize = (20, 6))\n",
    "    plt.subplot(1, 2, 1)\n",
    "    plt.plot(epoch_tr_acc, label='Train Acc')\n",
    "    plt.plot(epoch_vl_acc, label='Validation Acc')\n",
    "    plt.title(\"Accuracy\")\n",
    "    plt.legend()\n",
    "    plt.grid()\n",
    "    plt.subplot(1, 2, 2)\n",
    "    plt.plot(epoch_tr_loss, label='Train loss')\n",
    "    plt.plot(epoch_vl_loss, label='Validation loss')\n",
    "    plt.title(\"Loss\")\n",
    "    plt.legend()\n",
    "    plt.grid()\n",
    "    plt.show()\n",
    "    plt.savefig('Cerebral_LSTM_OVERALL.pdf')"
   ]
  },
  {
   "cell_type": "markdown",
   "metadata": {},
   "source": [
    "### Parameters used for Simple LSTM"
   ]
  },
  {
   "cell_type": "code",
   "execution_count": 434,
   "metadata": {},
   "outputs": [
    {
     "data": {
      "text/plain": [
       "LSTM_RNN(\n",
       "  (embedding): Embedding(1001, 10)\n",
       "  (lstm): LSTMCell(\n",
       "    (weight_fx): Linear(in_features=10, out_features=16, bias=True)\n",
       "    (weight_ix): Linear(in_features=10, out_features=16, bias=True)\n",
       "    (weight_cx): Linear(in_features=10, out_features=16, bias=True)\n",
       "    (weight_ox): Linear(in_features=10, out_features=16, bias=True)\n",
       "    (weight_fh): Linear(in_features=16, out_features=16, bias=True)\n",
       "    (weight_ih): Linear(in_features=16, out_features=16, bias=True)\n",
       "    (weight_ch): Linear(in_features=16, out_features=16, bias=True)\n",
       "    (weight_oh): Linear(in_features=16, out_features=16, bias=True)\n",
       "  )\n",
       "  (dropout): Dropout(p=0.3, inplace=False)\n",
       "  (fc): Linear(in_features=16, out_features=1, bias=True)\n",
       "  (sig): Sigmoid()\n",
       ")"
      ]
     },
     "execution_count": 434,
     "metadata": {},
     "output_type": "execute_result"
    }
   ],
   "source": [
    "vocab_size = len(vocab) + 1 #extra 1 for padding\n",
    "embedding_dim = 10 # Try with other values of Embedding Size\n",
    "output_dim = 1\n",
    "hidden_dim = 16 # Try with other values of Hidden Dimension Size\n",
    "\n",
    "# \"LSTM\":\n",
    "LSTM_model = LSTM_RNN(vocab_size, hidden_dim, output_dim, embedding_dim, drop_prob=0.3)\n",
    "\n",
    "#moving to gpu\n",
    "LSTM_model.to(device)"
   ]
  },
  {
   "cell_type": "markdown",
   "metadata": {},
   "source": [
    "#### Loss function and optimizer for Simple LSTM"
   ]
  },
  {
   "cell_type": "code",
   "execution_count": 435,
   "metadata": {},
   "outputs": [],
   "source": [
    "# loss and optimization functions\n",
    "lr=0.001\n",
    "\n",
    "criterion = nn.BCELoss()\n",
    "\n",
    "optimizer_LSTM = torch.optim.Adam(LSTM_model.parameters(), lr=lr)\n",
    "schedular_LSTM = StepLR(optimizer_LSTM, step_size=4, gamma=0.1)\n",
    "\n",
    "# function to predict accuracy\n",
    "def acc(pred,label):\n",
    "    pred = torch.round(pred.squeeze())\n",
    "    return torch.sum(pred == label.squeeze()).item()"
   ]
  },
  {
   "cell_type": "markdown",
   "metadata": {},
   "source": [
    "### Training and Validation using Simple LSTM "
   ]
  },
  {
   "cell_type": "code",
   "execution_count": 436,
   "metadata": {},
   "outputs": [
    {
     "name": "stderr",
     "output_type": "stream",
     "text": [
      "Epoch 1: 100%|████████████████████| 3750/3750 [01:18<00:00, 47.57 Train batch/s]\n",
      "Epoch 1: 100%|███████████████████| 1250/1250 [00:07<00:00, 161.51 Valid batch/s]\n"
     ]
    },
    {
     "name": "stdout",
     "output_type": "stream",
     "text": [
      "Epoch 1\n",
      "train_loss : 0.6904654484272004 val_loss : 0.684345504784584\n",
      "train_accuracy : 53.65333333333333 val_accuracy : 55.76\n",
      "Validation loss decreased (inf --> 0.684346).  Saving model ...\n",
      "==================================================\n"
     ]
    },
    {
     "name": "stderr",
     "output_type": "stream",
     "text": [
      "Epoch 2: 100%|████████████████████| 3750/3750 [01:18<00:00, 47.69 Train batch/s]\n",
      "Epoch 2: 100%|███████████████████| 1250/1250 [00:07<00:00, 165.25 Valid batch/s]\n"
     ]
    },
    {
     "name": "stdout",
     "output_type": "stream",
     "text": [
      "Epoch 2\n",
      "train_loss : 0.6412673257748286 val_loss : 0.6023843701124191\n",
      "train_accuracy : 64.42666666666666 val_accuracy : 68.56\n",
      "Validation loss decreased (0.684346 --> 0.602384).  Saving model ...\n",
      "==================================================\n"
     ]
    },
    {
     "name": "stderr",
     "output_type": "stream",
     "text": [
      "Epoch 3: 100%|████████████████████| 3750/3750 [01:17<00:00, 48.14 Train batch/s]\n",
      "Epoch 3: 100%|███████████████████| 1250/1250 [00:07<00:00, 164.76 Valid batch/s]\n"
     ]
    },
    {
     "name": "stdout",
     "output_type": "stream",
     "text": [
      "Epoch 3\n",
      "train_loss : 0.5320974762966235 val_loss : 0.5754918409138918\n",
      "train_accuracy : 74.8 val_accuracy : 73.2\n",
      "Validation loss decreased (0.602384 --> 0.575492).  Saving model ...\n",
      "==================================================\n"
     ]
    },
    {
     "name": "stderr",
     "output_type": "stream",
     "text": [
      "Epoch 4: 100%|████████████████████| 3750/3750 [01:17<00:00, 48.11 Train batch/s]\n",
      "Epoch 4: 100%|███████████████████| 1250/1250 [00:07<00:00, 161.29 Valid batch/s]\n"
     ]
    },
    {
     "name": "stdout",
     "output_type": "stream",
     "text": [
      "Epoch 4\n",
      "train_loss : 0.4637503988491992 val_loss : 0.5127470727175474\n",
      "train_accuracy : 80.34666666666666 val_accuracy : 75.92\n",
      "Validation loss decreased (0.575492 --> 0.512747).  Saving model ...\n",
      "==================================================\n"
     ]
    },
    {
     "name": "stderr",
     "output_type": "stream",
     "text": [
      "Epoch 5: 100%|████████████████████| 3750/3750 [01:17<00:00, 48.32 Train batch/s]\n",
      "Epoch 5: 100%|███████████████████| 1250/1250 [00:07<00:00, 165.06 Valid batch/s]\n"
     ]
    },
    {
     "name": "stdout",
     "output_type": "stream",
     "text": [
      "Epoch 5\n",
      "train_loss : 0.3950425031167765 val_loss : 0.5210150769263506\n",
      "train_accuracy : 84.18666666666667 val_accuracy : 76.8\n",
      "==================================================\n"
     ]
    },
    {
     "name": "stderr",
     "output_type": "stream",
     "text": [
      "Epoch 6: 100%|████████████████████| 3750/3750 [01:18<00:00, 47.67 Train batch/s]\n",
      "Epoch 6: 100%|███████████████████| 1250/1250 [00:07<00:00, 163.91 Valid batch/s]\n"
     ]
    },
    {
     "name": "stdout",
     "output_type": "stream",
     "text": [
      "Epoch 6\n",
      "train_loss : 0.3910173014141619 val_loss : 0.5214043544992805\n",
      "train_accuracy : 84.69333333333333 val_accuracy : 77.44\n",
      "==================================================\n"
     ]
    },
    {
     "name": "stderr",
     "output_type": "stream",
     "text": [
      "Epoch 7: 100%|████████████████████| 3750/3750 [01:18<00:00, 47.54 Train batch/s]\n",
      "Epoch 7: 100%|███████████████████| 1250/1250 [00:07<00:00, 163.62 Valid batch/s]\n"
     ]
    },
    {
     "name": "stdout",
     "output_type": "stream",
     "text": [
      "Epoch 7\n",
      "train_loss : 0.3792318211566657 val_loss : 0.5293340206220746\n",
      "train_accuracy : 85.11999999999999 val_accuracy : 77.68\n",
      "==================================================\n"
     ]
    },
    {
     "name": "stderr",
     "output_type": "stream",
     "text": [
      "Epoch 8: 100%|████████████████████| 3750/3750 [01:18<00:00, 47.57 Train batch/s]\n",
      "Epoch 8: 100%|███████████████████| 1250/1250 [00:07<00:00, 163.12 Valid batch/s]\n"
     ]
    },
    {
     "name": "stdout",
     "output_type": "stream",
     "text": [
      "Epoch 8\n",
      "train_loss : 0.3704944159451872 val_loss : 0.529388684593141\n",
      "train_accuracy : 86.08 val_accuracy : 77.84\n",
      "==================================================\n"
     ]
    },
    {
     "name": "stderr",
     "output_type": "stream",
     "text": [
      "Epoch 9: 100%|████████████████████| 3750/3750 [01:17<00:00, 48.14 Train batch/s]\n",
      "Epoch 9: 100%|███████████████████| 1250/1250 [00:07<00:00, 164.53 Valid batch/s]\n"
     ]
    },
    {
     "name": "stdout",
     "output_type": "stream",
     "text": [
      "Epoch 9\n",
      "train_loss : 0.36280301577722035 val_loss : 0.5300308787852526\n",
      "train_accuracy : 86.29333333333334 val_accuracy : 77.84\n",
      "==================================================\n"
     ]
    },
    {
     "name": "stderr",
     "output_type": "stream",
     "text": [
      "Epoch 10: 100%|███████████████████| 3750/3750 [01:18<00:00, 48.06 Train batch/s]\n",
      "Epoch 10: 100%|██████████████████| 1250/1250 [00:07<00:00, 163.20 Valid batch/s]"
     ]
    },
    {
     "name": "stdout",
     "output_type": "stream",
     "text": [
      "Epoch 10\n",
      "train_loss : 0.36397946534579 val_loss : 0.5321526993960142\n",
      "train_accuracy : 86.37333333333333 val_accuracy : 78.0\n",
      "==================================================\n"
     ]
    },
    {
     "name": "stderr",
     "output_type": "stream",
     "text": [
      "\n"
     ]
    }
   ],
   "source": [
    "if Select_Model in [\"LSTM\", \"ALL\", \"BOTH\"]:\n",
    "  # TRAIN AND VALIDATE LSTM\n",
    "  clip = 5\n",
    "  epochs = 10\n",
    "  valid_loss_min = np.Inf\n",
    "  # train for some number of epochs\n",
    "  epoch_tr_loss,epoch_vl_loss = [],[]\n",
    "  epoch_tr_acc,epoch_vl_acc = [],[]\n",
    "  for epoch in range(epochs):\n",
    "      train_losses = []\n",
    "      train_acc = 0.0\n",
    "      LSTM_model.train()\n",
    "      # initialize hidden state\n",
    "      with tqdm(train_loader, unit=\" Train batch\") as tepoch:\n",
    "        tepoch.set_description(f\"Epoch {epoch+1}\")\n",
    "        for inputs, labels in tepoch:\n",
    "            inputs, labels = inputs.to(device), labels.to(device)\n",
    "            output = None\n",
    "            for single_sentence in inputs:\n",
    "              LSTM_model.zero_grad()\n",
    "              h, uc = LSTM_model.init_hidden(batch_size=1)\n",
    "              for each_elem in single_sentence:\n",
    "                word = each_elem.unsqueeze(dim=0)\n",
    "                output, h, uc  = LSTM_model(word,h,uc)\n",
    "\n",
    "            loss = criterion(input=output.squeeze(dim=0), target=labels.float())\n",
    "            train_losses.append(loss.item())\n",
    "            loss.backward()\n",
    "            \n",
    "            # calculating accuracy\n",
    "            accuracy = acc(output,labels)\n",
    "            train_acc += accuracy\n",
    "            #`clip_grad_norm` helps prevent the exploding gradient problem in RNNs / LSTMs.\n",
    "            nn.utils.clip_grad_norm_(LSTM_model.parameters(), clip)\n",
    "            optimizer_LSTM.step()\n",
    "\n",
    "        # validation code\n",
    "        val_losses = []\n",
    "        val_acc = 0.0\n",
    "        LSTM_model.eval()\n",
    "        with tqdm(valid_loader, unit=\" Valid batch\") as vepoch:\n",
    "          vepoch.set_description(f\"Epoch {epoch+1}\")\n",
    "          for inputs, labels in vepoch:\n",
    "            inputs, labels = inputs.to(device), labels.to(device)\n",
    "            output = None\n",
    "            for single_sentence in inputs:\n",
    "                val_h, val_uc = LSTM_model.init_hidden(batch_size=1)\n",
    "                for each_elem in single_sentence:\n",
    "                  word = each_elem.unsqueeze(dim=0)\n",
    "                  with torch.no_grad():\n",
    "                    output, val_h, val_uc = LSTM_model(word, val_h, val_uc)\n",
    "            val_loss = criterion(output.squeeze(dim=0), labels.float())\n",
    "            val_losses.append(val_loss.item())\n",
    "            accuracy = acc(output.squeeze(dim=0),labels)\n",
    "            val_acc += accuracy\n",
    "\n",
    "        # matrices log\n",
    "        epoch_train_loss = np.mean(train_losses)\n",
    "        epoch_val_loss = np.mean(val_losses)\n",
    "        epoch_train_acc = train_acc/len(train_loader.dataset)\n",
    "        epoch_val_acc = val_acc/len(valid_loader.dataset)\n",
    "        epoch_tr_loss.append(epoch_train_loss)\n",
    "        epoch_vl_loss.append(epoch_val_loss)\n",
    "        epoch_tr_acc.append(epoch_train_acc)\n",
    "        epoch_vl_acc.append(epoch_val_acc)\n",
    "        print(f'Epoch {epoch+1}')\n",
    "        print(f'train_loss : {epoch_train_loss} val_loss : {epoch_val_loss}')\n",
    "        print(f'train_accuracy : {epoch_train_acc*100} val_accuracy : {epoch_val_acc*100}')\n",
    "        if epoch_val_loss <= valid_loss_min:\n",
    "            torch.save(LSTM_model.state_dict(), root_path+\"Cerebral_LSTM/lstm_state_dict_\"+str(epoch+1)+\".pt\")\n",
    "            print('Validation loss decreased ({:.6f} --> {:.6f}).  Saving model ...'.format(valid_loss_min,epoch_val_loss))\n",
    "            valid_loss_min = epoch_val_loss\n",
    "        print(25*'==')\n",
    "        schedular_LSTM.step()"
   ]
  },
  {
   "cell_type": "markdown",
   "metadata": {},
   "source": [
    "#### Analysis of Training and Validation Loss and Accuracy for Simple LSTM"
   ]
  },
  {
   "cell_type": "code",
   "execution_count": 437,
   "metadata": {
    "executionInfo": {
     "elapsed": 3,
     "status": "aborted",
     "timestamp": 1696138335005,
     "user": {
      "displayName": "Ravin Kumar",
      "userId": "09011051242953458989"
     },
     "user_tz": -330
    },
    "id": "ModHjPyS9hAi"
   },
   "outputs": [
    {
     "data": {
      "image/png": "[encoded data removed]",
      "text/plain": [
       "<Figure size 2000x600 with 2 Axes>"
      ]
     },
     "metadata": {},
     "output_type": "display_data"
    },
    {
     "data": {
      "text/plain": [
       "<Figure size 640x480 with 0 Axes>"
      ]
     },
     "metadata": {},
     "output_type": "display_data"
    }
   ],
   "source": [
    "if Select_Model in [\"LSTM\", \"ALL\", \"BOTH\"]:\n",
    "    fig = plt.figure(figsize = (20, 6))\n",
    "    plt.subplot(1, 2, 1)\n",
    "    plt.plot(epoch_tr_acc, label='Train Acc')\n",
    "    plt.plot(epoch_vl_acc, label='Validation Acc')\n",
    "    plt.title(\"Accuracy\")\n",
    "    plt.legend()\n",
    "    plt.grid()\n",
    "    \n",
    "    plt.subplot(1, 2, 2)\n",
    "    plt.plot(epoch_tr_loss, label='Train loss')\n",
    "    plt.plot(epoch_vl_loss, label='Validation loss')\n",
    "    plt.title(\"Loss\")\n",
    "    plt.legend()\n",
    "    plt.grid()\n",
    "    \n",
    "    plt.show()\n",
    "    plt.savefig('LSTM_OVERALL.pdf')"
   ]
  },
  {
   "cell_type": "markdown",
   "metadata": {},
   "source": [
    "#### Observations when using Cerebral LSTM vs Simple LSTM:"
   ]
  },
  {
   "cell_type": "markdown",
   "metadata": {},
   "source": [
    "With the same configurations and training parameters, even on a smaller dataset. (Cerebral LSTM works better with larger dataset): \n",
    "```python\n",
    "lr=0.001\n",
    "epochs = 10\n",
    "criterion = nn.BCELoss()\n",
    "\n",
    "optimizer= torch.optim.Adam(model.parameters(), lr=lr)\n",
    "schedular = StepLR(optimizer, step_size=2, gamma=0.1)\n",
    "```\n",
    "- Cerebral LSTM have highest `validation set accuracy` of `78.64`. While, Simple LSTM provided highest `validation set accuracy` of `78.0`.\n",
    "- Cerebral LSTM have highest `training set accuracy` of `87.786`. While, Simple LSTM provided highest `training set accuracy` of `86.373`."
   ]
  },
  {
   "cell_type": "code",
   "execution_count": null,
   "metadata": {},
   "outputs": [],
   "source": []
  }
 ],
 "metadata": {
  "colab": {
   "authorship_tag": "ABX9TyOJ/O8DuCcayLUz7MkqPxQf",
   "provenance": []
  },
  "kernelspec": {
   "display_name": "my-python3-kernel",
   "language": "python",
   "name": "my-python3-kernel"
  },
  "language_info": {
   "codemirror_mode": {
    "name": "ipython",
    "version": 3
   },
   "file_extension": ".py",
   "mimetype": "text/x-python",
   "name": "python",
   "nbconvert_exporter": "python",
   "pygments_lexer": "ipython3",
   "version": "3.9.16"
  },
  "vscode": {
   "interpreter": {
    "hash": "31f2aee4e71d21fbe5cf8b01ff0e069b9275f58929596ceb00d14d90e3e16cd6"
   }
  }
 },
 "nbformat": 4,
 "nbformat_minor": 4
}
